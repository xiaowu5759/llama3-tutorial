{
 "cells": [
  {
   "cell_type": "markdown",
   "metadata": {
    "collapsed": false,
    "jupyter": {
     "outputs_hidden": false
    }
   },
   "source": [
    "# Ollama本地允许安装\n",
    "\n",
    "## 基础环境安装\n",
    "```\n",
    "ollama run llama3\n",
    "```\n"
   ]
  },
  {
   "cell_type": "code",
   "execution_count": 6,
   "metadata": {
    "collapsed": false,
    "jupyter": {
     "outputs_hidden": false
    },
    "pycharm": {
     "name": "#%%\n"
    }
   },
   "outputs": [
    {
     "name": "stdout",
     "output_type": "stream",
     "text": [
      "A classic question! 🌌💙\n",
      "\n",
      "The color of the sky, which is often referred to as \"blue,\" is actually a complex phenomenon that involves the interaction between light, gases in the atmosphere, and our perception. Here's a simplified explanation:\n",
      "\n",
      "1. **Light from the sun**: The sun emits white light, which contains all the colors of the visible spectrum (red, orange, yellow, green, blue, indigo, and violet).\n",
      "2. **Atmospheric scattering**: When this white light enters Earth's atmosphere, it encounters tiny molecules of gases like nitrogen (N2) and oxygen (O2). These molecules scatter the shorter wavelengths of light, such as blue and violet, more efficiently than longer wavelengths like red and orange.\n",
      "3. **Rayleigh scattering**: The smaller molecules in the air, like N2 and O2, cause a phenomenon called Rayleigh scattering. This is where shorter wavelengths of light are scattered in all directions, giving the sky its blue appearance.\n",
      "4. **Mie scattering**: Larger particles in the atmosphere, such as dust, water droplets, and pollen, also scatter light through Mie scattering. However, these larger particles tend to scatter longer wavelengths like red and orange more effectively, which is why sunsets often appear more orange or reddish.\n",
      "5. **Our perception**: When we look at the sky, our brain combines the scattered light from different directions to create the color we perceive as blue. The exact shade of blue can vary depending on factors like atmospheric conditions (e.g., pollution, dust), time of day, and the observer's location.\n",
      "\n",
      "In summary, the blue color of the sky is primarily due to the scattering of sunlight by tiny molecules in the atmosphere, which favors shorter wavelengths like blue and violet. This phenomenon is known as Rayleigh scattering. 🌊💫\n",
      "\n",
      "Now, go outside and enjoy that beautiful blue sky! 😊\n"
     ]
    }
   ],
   "source": [
    "from langchain_community.llms import Ollama\n",
    "# 创建llm\n",
    "llm = Ollama(model='llama3', stop=['<|eot_id|>'])\n",
    "# 访问\n",
    "response = llm.invoke('天空为什么是蓝色的？')\n",
    "print(response)"
   ]
  },
  {
   "cell_type": "markdown",
   "metadata": {
    "collapsed": false,
    "jupyter": {
     "outputs_hidden": false
    }
   },
   "source": []
  },
  {
   "cell_type": "code",
   "execution_count": null,
   "metadata": {
    "collapsed": false,
    "jupyter": {
     "outputs_hidden": false
    },
    "pycharm": {
     "name": "#%%\n"
    }
   },
   "outputs": [],
   "source": []
  },
  {
   "cell_type": "code",
   "execution_count": null,
   "metadata": {
    "collapsed": false,
    "jupyter": {
     "outputs_hidden": false
    },
    "pycharm": {
     "name": "#%%\n"
    }
   },
   "outputs": [],
   "source": []
  },
  {
   "cell_type": "code",
   "execution_count": null,
   "metadata": {
    "collapsed": false,
    "jupyter": {
     "outputs_hidden": false
    },
    "pycharm": {
     "name": "#%%\n"
    }
   },
   "outputs": [],
   "source": []
  },
  {
   "cell_type": "markdown",
   "metadata": {
    "collapsed": true,
    "jupyter": {
     "outputs_hidden": true
    },
    "pycharm": {
     "name": "#%% md\n"
    }
   },
   "source": []
  }
 ],
 "metadata": {
  "kernelspec": {
   "display_name": "Python 3 (ipykernel)",
   "language": "python",
   "name": "python3"
  },
  "language_info": {
   "codemirror_mode": {
    "name": "ipython",
    "version": 3
   },
   "file_extension": ".py",
   "mimetype": "text/x-python",
   "name": "python",
   "nbconvert_exporter": "python",
   "pygments_lexer": "ipython3",
   "version": "3.9.19"
  }
 },
 "nbformat": 4,
 "nbformat_minor": 4
}